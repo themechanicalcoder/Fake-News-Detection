{
 "cells": [
  {
   "cell_type": "markdown",
   "metadata": {},
   "source": [
    "# Importing the libraries"
   ]
  },
  {
   "cell_type": "code",
   "execution_count": 36,
   "metadata": {},
   "outputs": [],
   "source": [
    "import pandas as pd\n",
    "import numpy as np\n",
    "from sklearn.feature_extraction.text import CountVectorizer, TfidfVectorizer, HashingVectorizer\n",
    "from sklearn.model_selection import train_test_split\n",
    "from sklearn.linear_model import PassiveAggressiveClassifier,LogisticRegression\n",
    "from sklearn import svm\n",
    "from sklearn.ensemble import RandomForestClassifier\n",
    "from sklearn.naive_bayes import MultinomialNB\n",
    "from sklearn import metrics\n",
    "import matplotlib.pyplot as plt\n",
    "from sklearn.naive_bayes import GaussianNB\n",
    "import xgboost as xgb\n",
    "import itertools\n",
    "from keras.preprocessing.text import Tokenizer\n",
    "from keras.preprocessing.sequence import pad_sequences\n",
    "from numpy import array\n",
    "from keras.preprocessing.text import one_hot\n",
    "from keras.preprocessing.sequence import pad_sequences\n",
    "from keras.models import Sequential\n",
    "from keras.layers import Dense,LSTM\n",
    "from keras.layers import Flatten\n",
    "from keras.layers.embeddings import Embedding\n",
    "from keras.layers import Bidirectional"
   ]
  },
  {
   "cell_type": "markdown",
   "metadata": {},
   "source": [
    "# Loading the preprocessed data"
   ]
  },
  {
   "cell_type": "code",
   "execution_count": 37,
   "metadata": {},
   "outputs": [
    {
     "name": "stdout",
     "output_type": "stream",
     "text": [
      "(10240,)\n",
      "(10240,)\n",
      "(1267,)\n",
      "(1267,)\n",
      "(1284,)\n",
      "(1284,)\n"
     ]
    }
   ],
   "source": [
    "data=np.load('preprocessed.npz')\n",
    "trainx,trainy,testx,testy,validx,validy=data['arr_0'],data['arr_1'],data['arr_2'],data['arr_3'],data['arr_4'],data['arr_5']\n",
    "\n",
    "print(trainx.shape)\n",
    "print(trainy.shape)\n",
    "\n",
    "print(testx.shape)\n",
    "print(testy.shape)\n",
    "\n",
    "print(validx.shape)\n",
    "print(validy.shape)"
   ]
  },
  {
   "cell_type": "markdown",
   "metadata": {},
   "source": [
    "# Converting the data to Tfidf vectors for classification"
   ]
  },
  {
   "cell_type": "code",
   "execution_count": 38,
   "metadata": {},
   "outputs": [],
   "source": [
    "def get_string(l):\n",
    "    s=\"\"\n",
    "    for i in l:\n",
    "        s+=i;\n",
    "        s+=\" \"\n",
    "    return s"
   ]
  },
  {
   "cell_type": "code",
   "execution_count": 39,
   "metadata": {},
   "outputs": [],
   "source": [
    "def get_dataframe(data,label):\n",
    "    for i in range(len(data)):\n",
    "        data[i]=get_string(data[i])\n",
    "    return data\n",
    "    \n",
    "    "
   ]
  },
  {
   "cell_type": "code",
   "execution_count": 40,
   "metadata": {},
   "outputs": [],
   "source": [
    "x_train=get_dataframe(trainx,trainy)\n",
    "x_test=get_dataframe(testx,testy)\n",
    "x_valid=get_dataframe(validx,validy)"
   ]
  },
  {
   "cell_type": "code",
   "execution_count": 41,
   "metadata": {},
   "outputs": [
    {
     "name": "stdout",
     "output_type": "stream",
     "text": [
      "['say anni list polit group support thirdtrimest abort demand '\n",
      " 'declin coal start start natur ga took start begin presid georg w bush administr '\n",
      " 'hillari clinton agre john mccain vote give georg bush benefit doubt iran '\n",
      " ...\n",
      " 'say altern social secur oper galveston counti texa ha meant particip retir whole lot money social secur '\n",
      " 'lift us cuban embargo allow travel cuba '\n",
      " 'depart veteran affair ha manual tell veteran stuff like realli valu commun know encourag commit suicid ']\n"
     ]
    }
   ],
   "source": [
    "print(x_train)"
   ]
  },
  {
   "cell_type": "code",
   "execution_count": 42,
   "metadata": {},
   "outputs": [],
   "source": [
    "tfidf_vectorizer = TfidfVectorizer(stop_words='english', max_df=0.7)\n",
    "tfidf_train = tfidf_vectorizer.fit_transform(x_train)\n",
    "tfidf_test = tfidf_vectorizer.transform(x_test)\n",
    "tfidf_valid = tfidf_vectorizer.transform(x_valid)"
   ]
  },
  {
   "cell_type": "code",
   "execution_count": 43,
   "metadata": {},
   "outputs": [
    {
     "name": "stdout",
     "output_type": "stream",
     "text": [
      "  (0, 7415)\t0.12128257979647988\n",
      "  (0, 1254)\t0.4760557484752034\n",
      "  (0, 5212)\t0.33929947122826887\n",
      "  (0, 6569)\t0.3055257015485277\n",
      "  (0, 4090)\t0.3055257015485277\n",
      "  (0, 8212)\t0.22068959260719412\n",
      "  (0, 8462)\t0.45582476153165036\n",
      "  (0, 974)\t0.2644315558166556\n",
      "  (0, 2822)\t0.3611665310771048\n",
      "  (1, 2769)\t0.27259275787537385\n",
      "  (1, 2289)\t0.2796362423664109\n",
      "  (1, 8009)\t0.6796997249606986\n",
      "  (1, 5812)\t0.2742369297954397\n",
      "  (1, 3851)\t0.22284010182135267\n",
      "  (1, 8547)\t0.2017960877204538\n",
      "  (1, 1603)\t0.2666375765916097\n",
      "  (1, 6687)\t0.14785607093615724\n",
      "  (1, 3921)\t0.22239858605546087\n",
      "  (1, 1925)\t0.19741795026163655\n",
      "  (1, 1046)\t0.19628495970522744\n",
      "  (2, 3921)\t0.30020235047510413\n",
      "  (2, 1925)\t0.2664825066816798\n",
      "  (2, 4329)\t0.25687157024327884\n",
      "  (2, 2268)\t0.24116459769692017\n",
      "  (2, 1102)\t0.35808796158409395\n",
      "  :\t:\n",
      "  (10237, 6304)\t0.285042126196937\n",
      "  (10237, 1188)\t0.3070218316615694\n",
      "  (10237, 5484)\t0.3225111591272156\n",
      "  (10237, 3862)\t0.3380004865928618\n",
      "  (10238, 5184)\t0.4196940739301021\n",
      "  (10238, 1174)\t0.2825424389262376\n",
      "  (10238, 2636)\t0.4076087687072794\n",
      "  (10238, 8619)\t0.39773435535507595\n",
      "  (10238, 3252)\t0.46710887414121327\n",
      "  (10238, 2637)\t0.44888576325755025\n",
      "  (10239, 5188)\t0.17694968786412837\n",
      "  (10239, 4138)\t0.1091936302178333\n",
      "  (10239, 4981)\t0.19645092522717095\n",
      "  (10239, 2354)\t0.21388676960349814\n",
      "  (10239, 8922)\t0.26358749494856515\n",
      "  (10239, 8951)\t0.42665277614066816\n",
      "  (10239, 2843)\t0.19477485907720596\n",
      "  (10239, 2347)\t0.22837100347031136\n",
      "  (10239, 1067)\t0.2744500815945654\n",
      "  (10239, 8182)\t0.26600383909173864\n",
      "  (10239, 6962)\t0.24172767701867587\n",
      "  (10239, 8364)\t0.23292586700868945\n",
      "  (10239, 3288)\t0.2714026735559231\n",
      "  (10239, 8138)\t0.3098794801031568\n",
      "  (10239, 5375)\t0.3199549977020487\n"
     ]
    }
   ],
   "source": [
    "print(tfidf_train)"
   ]
  },
  {
   "cell_type": "markdown",
   "metadata": {},
   "source": [
    "# Function for plotting the confusion matrix"
   ]
  },
  {
   "cell_type": "code",
   "execution_count": 44,
   "metadata": {},
   "outputs": [],
   "source": [
    "def plot_confusion_matrix(cm, classes,\n",
    "                          normalize=False,\n",
    "                          title='Confusion matrix',\n",
    "                          cmap=plt.cm.Blues):\n",
    "    \n",
    "    plt.imshow(cm, interpolation='nearest', cmap=cmap)\n",
    "    plt.title(title)\n",
    "    plt.colorbar()\n",
    "    tick_marks = np.arange(len(classes))\n",
    "    plt.xticks(tick_marks, classes, rotation=45)\n",
    "    plt.yticks(tick_marks, classes)\n",
    "\n",
    "    if normalize:\n",
    "        cm = cm.astype('float') / cm.sum(axis=1)[:, np.newaxis]\n",
    "        print(\"Normalized confusion matrix\")\n",
    "    else:\n",
    "        print('Confusion matrix, without normalization')\n",
    "\n",
    "    thresh = cm.max() / 2.\n",
    "    for i, j in itertools.product(range(cm.shape[0]), range(cm.shape[1])):\n",
    "        plt.text(j, i, cm[i, j],\n",
    "                 horizontalalignment=\"center\",\n",
    "                 color=\"white\" if cm[i, j] > thresh else \"black\")\n",
    "\n",
    "    plt.tight_layout()\n",
    "    plt.ylabel('True label')\n",
    "    plt.xlabel('Predicted label')"
   ]
  },
  {
   "cell_type": "markdown",
   "metadata": {},
   "source": [
    "# Multinomial Naive bayes classsifier "
   ]
  },
  {
   "cell_type": "code",
   "execution_count": 45,
   "metadata": {},
   "outputs": [
    {
     "name": "stdout",
     "output_type": "stream",
     "text": [
      "Test accuracy:   0.607\n",
      "Valid accuracy:   0.614\n",
      "Confusion matrix, without normalization\n"
     ]
    },
    {
     "data": {
      "image/png": "[encoded data removed]",
      "text/plain": [
       "<Figure size 432x288 with 2 Axes>"
      ]
     },
     "metadata": {
      "needs_background": "light"
     },
     "output_type": "display_data"
    }
   ],
   "source": [
    "clf = MultinomialNB()\n",
    "clf.fit(tfidf_train, trainy)\n",
    "pred = clf.predict(tfidf_test)\n",
    "y_pred2=forest_clf.predict(tfidf_valid)\n",
    "score = metrics.accuracy_score(testy, pred)\n",
    "score2=metrics.accuracy_score(validy,y_pred2)\n",
    "print(\"Test accuracy:   %0.3f\" % score)\n",
    "print(\"Valid accuracy:   %0.3f\" % score2)\n",
    "cm = metrics.confusion_matrix(testy, pred, labels=[0, 1])\n",
    "plot_confusion_matrix(cm, classes=[0,1])"
   ]
  },
  {
   "cell_type": "markdown",
   "metadata": {},
   "source": [
    "# Logistic Regression "
   ]
  },
  {
   "cell_type": "code",
   "execution_count": 46,
   "metadata": {},
   "outputs": [
    {
     "name": "stderr",
     "output_type": "stream",
     "text": [
      "C:\\Users\\Gourav\\Anaconda3\\lib\\site-packages\\sklearn\\linear_model\\logistic.py:432: FutureWarning: Default solver will be changed to 'lbfgs' in 0.22. Specify a solver to silence this warning.\n",
      "  FutureWarning)\n"
     ]
    },
    {
     "name": "stdout",
     "output_type": "stream",
     "text": [
      "Test accuracy:   0.608\n",
      "Valid accuracy:   0.621\n",
      "Confusion matrix, without normalization\n"
     ]
    },
    {
     "data": {
      "image/png": "[encoded data removed]",
      "text/plain": [
       "<Figure size 432x288 with 2 Axes>"
      ]
     },
     "metadata": {
      "needs_background": "light"
     },
     "output_type": "display_data"
    }
   ],
   "source": [
    "reg=LogisticRegression()\n",
    "reg.fit(tfidf_train, trainy)\n",
    "pred = reg.predict(tfidf_test)\n",
    "y_pred2=reg.predict(tfidf_valid)\n",
    "score = metrics.accuracy_score(testy, pred)\n",
    "score2=metrics.accuracy_score(validy,y_pred2)\n",
    "print(\"Test accuracy:   %0.3f\" % score)\n",
    "print(\"Valid accuracy:   %0.3f\" % score2)\n",
    "cm = metrics.confusion_matrix(testy, pred, labels=[0, 1])\n",
    "plot_confusion_matrix(cm, classes=[0,1])"
   ]
  },
  {
   "cell_type": "markdown",
   "metadata": {},
   "source": [
    "# Gaussian Naive Baiyes"
   ]
  },
  {
   "cell_type": "markdown",
   "metadata": {},
   "source": [
    "# Xgboost classifier"
   ]
  },
  {
   "cell_type": "code",
   "execution_count": 47,
   "metadata": {},
   "outputs": [
    {
     "name": "stdout",
     "output_type": "stream",
     "text": [
      "Test accuracy:   0.593\n",
      "Valid accuracy:   0.581\n",
      "Confusion matrix, without normalization\n"
     ]
    },
    {
     "data": {
      "image/png": "[encoded data removed]",
      "text/plain": [
       "<Figure size 432x288 with 2 Axes>"
      ]
     },
     "metadata": {
      "needs_background": "light"
     },
     "output_type": "display_data"
    }
   ],
   "source": [
    "import xgboost as xgb\n",
    "xgb_model = xgb.XGBClassifier(objective=\"binary:logistic\", random_state=42)\n",
    "xgb_model.fit(tfidf_train, trainy)\n",
    "y_pred = xgb_model.predict(tfidf_test)\n",
    "y_pred2=xgb_model.predict(tfidf_valid)\n",
    "score = metrics.accuracy_score(testy, y_pred)\n",
    "score2=metrics.accuracy_score(validy,y_pred2)\n",
    "print(\"Test accuracy:   %0.3f\" % score)\n",
    "print(\"Valid accuracy:   %0.3f\" % score2)\n",
    "cm = metrics.confusion_matrix(testy, y_pred, labels=[0, 1])\n",
    "plot_confusion_matrix(cm, classes=[0,1])"
   ]
  },
  {
   "cell_type": "markdown",
   "metadata": {},
   "source": [
    "# Random Forest Classifier"
   ]
  },
  {
   "cell_type": "code",
   "execution_count": 48,
   "metadata": {},
   "outputs": [
    {
     "name": "stdout",
     "output_type": "stream",
     "text": [
      "Test accuracy:   0.608\n",
      "Valid accuracy:   0.614\n",
      "Confusion matrix, without normalization\n"
     ]
    },
    {
     "data": {
      "image/png": "[encoded data removed]",
      "text/plain": [
       "<Figure size 432x288 with 2 Axes>"
      ]
     },
     "metadata": {
      "needs_background": "light"
     },
     "output_type": "display_data"
    }
   ],
   "source": [
    "forest_clf=RandomForestClassifier(n_estimators=500)\n",
    "forest_clf.fit(tfidf_train,trainy)\n",
    "y_pred=forest_clf.predict(tfidf_test)\n",
    "y_pred2=forest_clf.predict(tfidf_valid)\n",
    "score = metrics.accuracy_score(testy, y_pred)\n",
    "score2=metrics.accuracy_score(validy,y_pred2)\n",
    "print(\"Test accuracy:   %0.3f\" % score)\n",
    "print(\"Valid accuracy:   %0.3f\" % score2)\n",
    "cm = metrics.confusion_matrix(testy, y_pred, labels=[0, 1])\n",
    "plot_confusion_matrix(cm, classes=[0,1])"
   ]
  },
  {
   "cell_type": "markdown",
   "metadata": {},
   "source": [
    "# SVM model"
   ]
  },
  {
   "cell_type": "code",
   "execution_count": 49,
   "metadata": {},
   "outputs": [
    {
     "name": "stdout",
     "output_type": "stream",
     "text": [
      "Test accuracy:   0.564\n",
      "Valid accuracy:   0.520\n",
      "Confusion matrix, without normalization\n"
     ]
    },
    {
     "data": {
      "image/png": "[encoded data removed]",
      "text/plain": [
       "<Figure size 432x288 with 2 Axes>"
      ]
     },
     "metadata": {
      "needs_background": "light"
     },
     "output_type": "display_data"
    }
   ],
   "source": [
    "svm_classifier=svm.SVC(gamma='scale')\n",
    "svm_classifier.fit(tfidf_train, trainy)\n",
    "svm_pred=svm_classifier.predict(tfidf_test)\n",
    "svm_pred2=svm_classifier.predict(tfidf_valid)\n",
    "score = metrics.accuracy_score(testy, svm_pred)\n",
    "score2 = metrics.accuracy_score(validy, svm_pred2)\n",
    "print(\"Test accuracy:   %0.3f\" % score)\n",
    "print(\"Valid accuracy:   %0.3f\" % score2)\n",
    "cm = metrics.confusion_matrix(testy, y_pred, labels=[0, 1])\n",
    "plot_confusion_matrix(cm, classes=[0,1])"
   ]
  },
  {
   "cell_type": "markdown",
   "metadata": {},
   "source": [
    "# Glove Preprocessing for the neural network"
   ]
  },
  {
   "cell_type": "code",
   "execution_count": 50,
   "metadata": {},
   "outputs": [],
   "source": [
    "l=[]\n",
    "l.extend(trainx)\n",
    "l.extend(testx)\n",
    "l.extend(validx)"
   ]
  },
  {
   "cell_type": "code",
   "execution_count": 51,
   "metadata": {},
   "outputs": [
    {
     "name": "stdout",
     "output_type": "stream",
     "text": [
      "10540\n"
     ]
    }
   ],
   "source": [
    "vocab=set()\n",
    "for i in l:\n",
    "    lst=i.split()\n",
    "    for j in lst:\n",
    "        vocab.add(j)\n",
    "vocab_size=len(vocab)\n",
    "print(vocab_size)"
   ]
  },
  {
   "cell_type": "code",
   "execution_count": 52,
   "metadata": {},
   "outputs": [],
   "source": [
    "tokenizer = Tokenizer()\n",
    "tokenizer.fit_on_texts(l)"
   ]
  },
  {
   "cell_type": "code",
   "execution_count": 53,
   "metadata": {},
   "outputs": [
    {
     "name": "stdout",
     "output_type": "stream",
     "text": [
      "10540\n"
     ]
    }
   ],
   "source": [
    "print(len(vocab))"
   ]
  },
  {
   "cell_type": "code",
   "execution_count": 54,
   "metadata": {},
   "outputs": [],
   "source": [
    "sequences_train = tokenizer.texts_to_sequences(trainx)\n",
    "sequences_test = tokenizer.texts_to_sequences(testx)\n",
    "sequences_valid = tokenizer.texts_to_sequences(validx)"
   ]
  },
  {
   "cell_type": "code",
   "execution_count": 55,
   "metadata": {},
   "outputs": [],
   "source": [
    "maxlen=100"
   ]
  },
  {
   "cell_type": "code",
   "execution_count": 56,
   "metadata": {},
   "outputs": [],
   "source": [
    "data_train = pad_sequences(sequences_train, maxlen=maxlen)\n",
    "data_test = pad_sequences(sequences_test, maxlen=maxlen)\n",
    "data_val = pad_sequences(sequences_valid , maxlen=maxlen)"
   ]
  },
  {
   "cell_type": "code",
   "execution_count": 57,
   "metadata": {},
   "outputs": [
    {
     "name": "stdout",
     "output_type": "stream",
     "text": [
      "(10240, 100)\n",
      "(1267, 100)\n",
      "(1284, 100)\n"
     ]
    }
   ],
   "source": [
    "print(data_train.shape)\n",
    "print(data_test.shape)\n",
    "print(data_val.shape)\n",
    "data_train=data_train/vocab_size\n",
    "data_test=data_test/vocab_size\n",
    "data_val=data_val/vocab_size"
   ]
  },
  {
   "cell_type": "code",
   "execution_count": 58,
   "metadata": {},
   "outputs": [
    {
     "name": "stdout",
     "output_type": "stream",
     "text": [
      "(10240, 100)\n"
     ]
    }
   ],
   "source": [
    "print(data_train.shape)"
   ]
  },
  {
   "cell_type": "markdown",
   "metadata": {},
   "source": [
    "# Neural Network"
   ]
  },
  {
   "cell_type": "code",
   "execution_count": 59,
   "metadata": {},
   "outputs": [
    {
     "name": "stdout",
     "output_type": "stream",
     "text": [
      "Train on 10240 samples, validate on 1284 samples\n",
      "Epoch 1/10\n",
      "10240/10240 [==============================] - 65s 6ms/step - loss: 0.6864 - acc: 0.5616 - val_loss: 0.6925 - val_acc: 0.5202\n",
      "Epoch 2/10\n",
      "10240/10240 [==============================] - 59s 6ms/step - loss: 0.6849 - acc: 0.5617 - val_loss: 0.7005 - val_acc: 0.5202\n",
      "Epoch 3/10\n",
      "10240/10240 [==============================] - 53s 5ms/step - loss: 0.6847 - acc: 0.5617 - val_loss: 0.6955 - val_acc: 0.5202\n",
      "Epoch 4/10\n",
      "10240/10240 [==============================] - 52s 5ms/step - loss: 0.6854 - acc: 0.5616 - val_loss: 0.6954 - val_acc: 0.5202\n",
      "Epoch 5/10\n",
      "10240/10240 [==============================] - 51s 5ms/step - loss: 0.6846 - acc: 0.5617 - val_loss: 0.6935 - val_acc: 0.5202\n",
      "Epoch 6/10\n",
      "10240/10240 [==============================] - 53s 5ms/step - loss: 0.6846 - acc: 0.5619 - val_loss: 0.6923 - val_acc: 0.5202\n",
      "Epoch 7/10\n",
      "10240/10240 [==============================] - 54s 5ms/step - loss: 0.6849 - acc: 0.5617 - val_loss: 0.6938 - val_acc: 0.5202\n",
      "Epoch 8/10\n",
      "10240/10240 [==============================] - 51s 5ms/step - loss: 0.6853 - acc: 0.5622 - val_loss: 0.6920 - val_acc: 0.5226\n",
      "Epoch 9/10\n",
      "10240/10240 [==============================] - 55s 5ms/step - loss: 0.6847 - acc: 0.5622 - val_loss: 0.6926 - val_acc: 0.5202\n",
      "Epoch 10/10\n",
      "10240/10240 [==============================] - 52s 5ms/step - loss: 0.6844 - acc: 0.5630 - val_loss: 0.6937 - val_acc: 0.5226\n"
     ]
    }
   ],
   "source": [
    "model = Sequential()\n",
    "model.add(Embedding(vocab_size, 100,input_length=maxlen,mask_zero=True))\n",
    "model.add(Bidirectional(LSTM(64,dropout=0.4)))\n",
    "model.add(Dense(1, activation='sigmoid'))\n",
    "model.compile(optimizer='adam', loss='binary_crossentropy', metrics=['acc'])\n",
    "history_ltsm = model.fit(data_train, trainy, epochs=10, batch_size=128, validation_data=(data_val,validy))"
   ]
  },
  {
   "cell_type": "code",
   "execution_count": 60,
   "metadata": {},
   "outputs": [],
   "source": [
    "model.save('fake_news_binary_classifier.h5')\n"
   ]
  },
  {
   "cell_type": "code",
   "execution_count": 61,
   "metadata": {},
   "outputs": [
    {
     "name": "stdout",
     "output_type": "stream",
     "text": [
      "accuracy:   0.566\n",
      "Confusion matrix, without normalization\n"
     ]
    },
    {
     "data": {
      "image/png": "[encoded data removed]",
      "text/plain": [
       "<Figure size 432x288 with 2 Axes>"
      ]
     },
     "metadata": {
      "needs_background": "light"
     },
     "output_type": "display_data"
    }
   ],
   "source": [
    "y_pred = model.predict(data_test)\n",
    "for i in range(len(y_pred)):\n",
    "    if(y_pred[i]>0.5):\n",
    "        y_pred[i]=1\n",
    "    else: \n",
    "        y_pred[i]=0\n",
    "        \n",
    "score = metrics.accuracy_score(testy, y_pred)\n",
    "print(\"accuracy:   %0.3f\" % score)\n",
    "cm = metrics.confusion_matrix(testy, y_pred, labels=[0, 1])\n",
    "plot_confusion_matrix(cm, classes=[0,1])"
   ]
  },
  {
   "cell_type": "code",
   "execution_count": 63,
   "metadata": {},
   "outputs": [
    {
     "data": {
      "image/png": "[encoded data removed]",
      "text/plain": [
       "<Figure size 432x288 with 1 Axes>"
      ]
     },
     "metadata": {
      "needs_background": "light"
     },
     "output_type": "display_data"
    }
   ],
   "source": [
    "plt.plot(history_ltsm.history['acc'])\n",
    "plt.plot(history_ltsm.history['val_acc'])\n",
    "plt.title('model accuracy')\n",
    "plt.ylabel('accuracy')\n",
    "plt.xlabel('epoch')\n",
    "plt.legend(['train', 'test'], loc='upper left')\n",
    "plt.show()"
   ]
  },
  {
   "cell_type": "code",
   "execution_count": null,
   "metadata": {},
   "outputs": [],
   "source": []
  }
 ],
 "metadata": {
  "kernelspec": {
   "display_name": "Python 3",
   "language": "python",
   "name": "python3"
  },
  "language_info": {
   "codemirror_mode": {
    "name": "ipython",
    "version": 3
   },
   "file_extension": ".py",
   "mimetype": "text/x-python",
   "name": "python",
   "nbconvert_exporter": "python",
   "pygments_lexer": "ipython3",
   "version": "3.5.6"
  }
 },
 "nbformat": 4,
 "nbformat_minor": 2
}
