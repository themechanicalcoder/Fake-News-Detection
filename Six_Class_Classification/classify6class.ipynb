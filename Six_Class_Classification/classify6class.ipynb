{
 "cells": [
  {
   "cell_type": "markdown",
   "metadata": {},
   "source": [
    "# Importing libraries"
   ]
  },
  {
   "cell_type": "code",
   "execution_count": 54,
   "metadata": {},
   "outputs": [],
   "source": [
    "\n",
    "import pandas as pd\n",
    "import numpy as np\n",
    "from sklearn.feature_extraction.text import CountVectorizer, TfidfVectorizer, HashingVectorizer\n",
    "from sklearn.model_selection import train_test_split\n",
    "from sklearn.linear_model import PassiveAggressiveClassifier,LogisticRegression\n",
    "from sklearn.preprocessing import OneHotEncoder\n",
    "from sklearn.preprocessing import LabelBinarizer\n",
    "from sklearn import svm\n",
    "from sklearn.ensemble import RandomForestClassifier\n",
    "from sklearn.naive_bayes import MultinomialNB\n",
    "from sklearn import metrics\n",
    "import matplotlib.pyplot as plt\n",
    "from sklearn.naive_bayes import GaussianNB\n",
    "import xgboost as xgb\n",
    "import itertools\n",
    "from keras.preprocessing.text import Tokenizer\n",
    "from keras.preprocessing.sequence import pad_sequences\n",
    "from numpy import array\n",
    "from keras.preprocessing.text import one_hot\n",
    "from keras.preprocessing.sequence import pad_sequences\n",
    "from keras.models import Sequential\n",
    "from keras.layers import Dense,LSTM,SpatialDropout1D\n",
    "from keras.layers import Flatten\n",
    "from keras.layers.embeddings import Embedding\n",
    "from keras.layers import Bidirectional\n",
    "from keras.callbacks import ModelCheckpoint"
   ]
  },
  {
   "cell_type": "markdown",
   "metadata": {},
   "source": [
    "# Loading Data\n"
   ]
  },
  {
   "cell_type": "code",
   "execution_count": 56,
   "metadata": {},
   "outputs": [
    {
     "name": "stdout",
     "output_type": "stream",
     "text": [
      "(10240,)\n",
      "(10240,)\n",
      "(1267,)\n",
      "(1267,)\n",
      "(1284,)\n",
      "(1284,)\n"
     ]
    }
   ],
   "source": [
    "data=np.load('preprocessed6class.npz')\n",
    "trainx,trainy,testx,testy,validx,validy=data['arr_0'],data['arr_1'],data['arr_2'],data['arr_3'],data['arr_4'],data['arr_5']\n",
    "\n",
    "print(trainx.shape)\n",
    "print(trainy.shape)\n",
    "\n",
    "print(testx.shape)\n",
    "print(testy.shape)\n",
    "\n",
    "print(validx.shape)\n",
    "print(validy.shape)"
   ]
  },
  {
   "cell_type": "markdown",
   "metadata": {},
   "source": [
    "# Converting to labels one hot array "
   ]
  },
  {
   "cell_type": "code",
   "execution_count": 3,
   "metadata": {},
   "outputs": [],
   "source": [
    "lb_train= LabelBinarizer()\n",
    "y_train=lb_train.fit_transform(trainy)\n",
    "y_test=lb_train.transform(testy)\n",
    "y_val=lb_train.transform(validy)"
   ]
  },
  {
   "cell_type": "code",
   "execution_count": 4,
   "metadata": {},
   "outputs": [
    {
     "name": "stdout",
     "output_type": "stream",
     "text": [
      "[[0 0 0 1 0 0]\n",
      " [0 0 1 0 0 0]\n",
      " [0 1 0 0 0 0]\n",
      " ...\n",
      " [0 0 1 0 0 0]\n",
      " [0 0 0 1 0 0]\n",
      " [0 0 0 0 0 1]]\n",
      "[[1 0 0 0 0 0]\n",
      " [0 0 0 1 0 0]\n",
      " [0 0 0 1 0 0]\n",
      " ...\n",
      " [0 0 0 0 1 0]\n",
      " [0 0 0 0 1 0]\n",
      " [0 0 0 1 0 0]]\n",
      "[[0 0 0 0 1 0]\n",
      " [0 0 0 0 0 1]\n",
      " [0 0 0 1 0 0]\n",
      " ...\n",
      " [1 0 0 0 0 0]\n",
      " [0 0 0 1 0 0]\n",
      " [0 0 0 0 1 0]]\n"
     ]
    }
   ],
   "source": [
    "print(y_train)\n",
    "print(y_test)\n",
    "print(y_val)"
   ]
  },
  {
   "cell_type": "markdown",
   "metadata": {},
   "source": [
    "# Preprocessing for various classifiers and then using tfidf techninques"
   ]
  },
  {
   "cell_type": "code",
   "execution_count": 57,
   "metadata": {},
   "outputs": [],
   "source": [
    "def get_string(l):\n",
    "    s=\"\"\n",
    "    for i in l:\n",
    "        s+=i;\n",
    "        s+=\" \"\n",
    "    return s"
   ]
  },
  {
   "cell_type": "code",
   "execution_count": 58,
   "metadata": {},
   "outputs": [],
   "source": [
    "def get_dataframe(data):\n",
    "    for i in range(len(data)):\n",
    "        data[i]=get_string(data[i])\n",
    "    return data\n",
    "    \n",
    "    "
   ]
  },
  {
   "cell_type": "code",
   "execution_count": 59,
   "metadata": {},
   "outputs": [],
   "source": [
    "x_train=get_dataframe(trainx)\n",
    "x_test=get_dataframe(testx)\n",
    "x_valid=get_dataframe(validx)"
   ]
  },
  {
   "cell_type": "code",
   "execution_count": 60,
   "metadata": {},
   "outputs": [
    {
     "name": "stdout",
     "output_type": "stream",
     "text": [
      "['say anni list polit group support thirdtrimest abort demand '\n",
      " 'declin coal start start natur ga took start begin presid georg w bush administr '\n",
      " 'hillari clinton agre john mccain vote give georg bush benefit doubt iran '\n",
      " ...\n",
      " 'say altern social secur oper galveston counti texa ha meant particip retir whole lot money social secur '\n",
      " 'lift us cuban embargo allow travel cuba '\n",
      " 'depart veteran affair ha manual tell veteran stuff like realli valu commun know encourag commit suicid ']\n"
     ]
    }
   ],
   "source": [
    "print(x_train)"
   ]
  },
  {
   "cell_type": "markdown",
   "metadata": {},
   "source": [
    "# Function for plotting the confusion matrix"
   ]
  },
  {
   "cell_type": "code",
   "execution_count": 61,
   "metadata": {},
   "outputs": [],
   "source": [
    "def plot_confusion_matrix(cm, classes,\n",
    "                          normalize=False,\n",
    "                          title='Confusion matrix',\n",
    "                          cmap=plt.cm.Blues):\n",
    "   \n",
    "    plt.imshow(cm, interpolation='nearest', cmap=cmap)\n",
    "    plt.title(title)\n",
    "    plt.colorbar()\n",
    "    tick_marks = np.arange(len(classes))\n",
    "    plt.xticks(tick_marks, classes, rotation=45)\n",
    "    plt.yticks(tick_marks, classes)\n",
    "\n",
    "    if normalize:\n",
    "        cm = cm.astype('float') / cm.sum(axis=1)[:, np.newaxis]\n",
    "        print(\"Normalized confusion matrix\")\n",
    "    else:\n",
    "        print('Confusion matrix, without normalization')\n",
    "\n",
    "    thresh = cm.max() / 2.\n",
    "    for i, j in itertools.product(range(cm.shape[0]), range(cm.shape[1])):\n",
    "        plt.text(j, i, cm[i, j],\n",
    "                 horizontalalignment=\"center\",\n",
    "                 color=\"white\" if cm[i, j] > thresh else \"black\")\n",
    "\n",
    "    plt.tight_layout()\n",
    "    plt.ylabel('True label')\n",
    "    plt.xlabel('Predicted label')"
   ]
  },
  {
   "cell_type": "code",
   "execution_count": 62,
   "metadata": {},
   "outputs": [],
   "source": [
    "tfidf_vectorizer = TfidfVectorizer(stop_words='english', max_df=0.7)\n",
    "tfidf_train = tfidf_vectorizer.fit_transform(x_train)\n",
    "tfidf_test = tfidf_vectorizer.transform(x_test)\n",
    "tfidf_valid=tfidf_vectorizer.transform(x_valid)"
   ]
  },
  {
   "cell_type": "markdown",
   "metadata": {},
   "source": [
    "# Multinomial Naive Bayes "
   ]
  },
  {
   "cell_type": "code",
   "execution_count": 65,
   "metadata": {},
   "outputs": [
    {
     "name": "stdout",
     "output_type": "stream",
     "text": [
      "Test accuracy:   0.219\n",
      "Valid accuracy:   0.234\n",
      "Confusion matrix, without normalization\n"
     ]
    },
    {
     "data": {
      "image/png": "[encoded data removed]",
      "text/plain": [
       "<Figure size 432x288 with 2 Axes>"
      ]
     },
     "metadata": {
      "needs_background": "light"
     },
     "output_type": "display_data"
    }
   ],
   "source": [
    "clf = MultinomialNB()\n",
    "clf.fit(tfidf_train, trainy)\n",
    "pred = clf.predict(tfidf_test)\n",
    "pred2=clf.predict(tfidf_valid)\n",
    "score = metrics.accuracy_score(testy, pred)\n",
    "score2=metrics.accuracy_score(validy,pred2)\n",
    "print(\"Test accuracy:   %0.3f\" % score)\n",
    "print(\"Valid accuracy:   %0.3f\" % score2)\n",
    "cm = metrics.confusion_matrix(testy, pred, labels=[0, 1,2,3,4,5])\n",
    "plot_confusion_matrix(cm, classes=[0, 1,2,3,4,5])"
   ]
  },
  {
   "cell_type": "markdown",
   "metadata": {},
   "source": [
    "#  Logistic Regression Classifier"
   ]
  },
  {
   "cell_type": "code",
   "execution_count": 66,
   "metadata": {},
   "outputs": [
    {
     "name": "stderr",
     "output_type": "stream",
     "text": [
      "C:\\Users\\Gourav\\Anaconda3\\lib\\site-packages\\sklearn\\linear_model\\logistic.py:432: FutureWarning: Default solver will be changed to 'lbfgs' in 0.22. Specify a solver to silence this warning.\n",
      "  FutureWarning)\n",
      "C:\\Users\\Gourav\\Anaconda3\\lib\\site-packages\\sklearn\\linear_model\\logistic.py:459: FutureWarning: Default multi_class will be changed to 'auto' in 0.22. Specify the multi_class option to silence this warning.\n",
      "  \"this warning.\", FutureWarning)\n"
     ]
    },
    {
     "name": "stdout",
     "output_type": "stream",
     "text": [
      "Test accuracy :   0.235\n",
      "Valid accuracy :   0.241\n",
      "Confusion matrix, without normalization\n"
     ]
    },
    {
     "data": {
      "image/png": "[encoded data removed]",
      "text/plain": [
       "<Figure size 432x288 with 2 Axes>"
      ]
     },
     "metadata": {
      "needs_background": "light"
     },
     "output_type": "display_data"
    }
   ],
   "source": [
    "reg=LogisticRegression()\n",
    "reg.fit(tfidf_train, trainy)\n",
    "pred = reg.predict(tfidf_test)\n",
    "pred2=reg.predict(tfidf_valid)\n",
    "score = metrics.accuracy_score(testy, pred)\n",
    "score2= metrics.accuracy_score(validy,pred2)\n",
    "print(\"Test accuracy :   %0.3f\" % score)\n",
    "print(\"Valid accuracy :   %0.3f\" % score2)\n",
    "cm = metrics.confusion_matrix(testy, pred, labels=[0, 1,2,3,4,5])\n",
    "plot_confusion_matrix(cm, classes=[0, 1,2,3,4,5])"
   ]
  },
  {
   "cell_type": "markdown",
   "metadata": {},
   "source": [
    "# Svm Classifier"
   ]
  },
  {
   "cell_type": "code",
   "execution_count": 67,
   "metadata": {},
   "outputs": [
    {
     "name": "stdout",
     "output_type": "stream",
     "text": [
      "Test accuracy:   0.212\n",
      "Valid accuracy:0.201\n",
      "Confusion matrix, without normalization\n"
     ]
    },
    {
     "data": {
      "image/png": "[encoded data removed]",
      "text/plain": [
       "<Figure size 432x288 with 2 Axes>"
      ]
     },
     "metadata": {
      "needs_background": "light"
     },
     "output_type": "display_data"
    }
   ],
   "source": [
    "svm_classifier=svm.SVC(gamma=20,C=100)\n",
    "svm_classifier.fit(tfidf_train, trainy)\n",
    "svm_pred=svm_classifier.predict(tfidf_test)\n",
    "svm_pred2=svm_classifier.predict(tfidf_valid)\n",
    "score = metrics.accuracy_score(testy, svm_pred)\n",
    "score2=metrics.accuracy_score(validy,svm_pred2)\n",
    "print(\"Test accuracy:   %0.3f\" % score)\n",
    "print(\"Valid accuracy:%0.3f\"%score2)\n",
    "cm = metrics.confusion_matrix(testy, svm_pred, labels=[0, 1,2,3,4,5])\n",
    "plot_confusion_matrix(cm, classes=[0, 1,2,3,4,5])"
   ]
  },
  {
   "cell_type": "markdown",
   "metadata": {},
   "source": [
    "# Random Forest Classifier "
   ]
  },
  {
   "cell_type": "code",
   "execution_count": 68,
   "metadata": {},
   "outputs": [
    {
     "name": "stdout",
     "output_type": "stream",
     "text": [
      "Test accuracy:   0.212\n",
      "Valid accuracy:0.201\n",
      "Confusion matrix, without normalization\n"
     ]
    },
    {
     "data": {
      "image/png": "[encoded data removed]",
      "text/plain": [
       "<Figure size 432x288 with 2 Axes>"
      ]
     },
     "metadata": {
      "needs_background": "light"
     },
     "output_type": "display_data"
    }
   ],
   "source": [
    "f_clf=RandomForestClassifier(n_estimators=500)\n",
    "f_clf.fit(tfidf_train,trainy)\n",
    "pred=f_clf.predict(tfidf_test)\n",
    "pred2=f_clf.predict(tfidf_valid)\n",
    "score = metrics.accuracy_score(testy, svm_pred)\n",
    "score2=metrics.accuracy_score(validy,svm_pred2)\n",
    "print(\"Test accuracy:   %0.3f\" % score)\n",
    "print(\"Valid accuracy:%0.3f\"%score2)\n",
    "cm = metrics.confusion_matrix(testy, svm_pred, labels=[0, 1,2,3,4,5])\n",
    "plot_confusion_matrix(cm, classes=[0, 1,2,3,4,5])"
   ]
  },
  {
   "cell_type": "markdown",
   "metadata": {},
   "source": [
    "# Glove Preprocessing for RNN"
   ]
  },
  {
   "cell_type": "code",
   "execution_count": 69,
   "metadata": {},
   "outputs": [],
   "source": [
    "l=[]\n",
    "l.extend(trainx)\n",
    "l.extend(testx)\n",
    "l.extend(validx)"
   ]
  },
  {
   "cell_type": "code",
   "execution_count": 70,
   "metadata": {},
   "outputs": [
    {
     "name": "stdout",
     "output_type": "stream",
     "text": [
      "10540\n"
     ]
    }
   ],
   "source": [
    "vocab=set()\n",
    "for i in l:\n",
    "    lst=i.split()\n",
    "    for j in lst:\n",
    "        vocab.add(j)\n",
    "vocab_size=len(vocab)\n",
    "print(vocab_size)"
   ]
  },
  {
   "cell_type": "code",
   "execution_count": 71,
   "metadata": {},
   "outputs": [],
   "source": [
    "tokenizer = Tokenizer()\n",
    "tokenizer.fit_on_texts(l)"
   ]
  },
  {
   "cell_type": "code",
   "execution_count": 72,
   "metadata": {},
   "outputs": [],
   "source": [
    "sequences_train = tokenizer.texts_to_sequences(trainx)\n",
    "sequences_test = tokenizer.texts_to_sequences(testx)\n",
    "sequences_valid = tokenizer.texts_to_sequences(validx)"
   ]
  },
  {
   "cell_type": "code",
   "execution_count": 73,
   "metadata": {},
   "outputs": [],
   "source": [
    "maxlen=100"
   ]
  },
  {
   "cell_type": "code",
   "execution_count": 74,
   "metadata": {},
   "outputs": [],
   "source": [
    "data_train = pad_sequences(sequences_train, maxlen=maxlen)\n",
    "data_test = pad_sequences(sequences_test, maxlen=maxlen)\n",
    "data_val = pad_sequences(sequences_valid , maxlen=maxlen)"
   ]
  },
  {
   "cell_type": "code",
   "execution_count": 75,
   "metadata": {},
   "outputs": [
    {
     "name": "stdout",
     "output_type": "stream",
     "text": [
      "(10240, 100)\n",
      "(1267, 100)\n",
      "(1284, 100)\n"
     ]
    }
   ],
   "source": [
    "print(data_train.shape)\n",
    "print(data_test.shape)\n",
    "print(data_val.shape)\n",
    "data_train=data_train/vocab_size\n",
    "data_test=data_test/vocab_size\n",
    "data_val=data_val/vocab_size"
   ]
  },
  {
   "cell_type": "code",
   "execution_count": 76,
   "metadata": {},
   "outputs": [
    {
     "name": "stdout",
     "output_type": "stream",
     "text": [
      "[0.         0.         0.         0.         0.         0.\n",
      " 0.         0.         0.         0.         0.         0.\n",
      " 0.         0.         0.         0.         0.         0.\n",
      " 0.         0.         0.         0.         0.         0.\n",
      " 0.         0.         0.         0.         0.         0.\n",
      " 0.         0.         0.         0.         0.         0.\n",
      " 0.         0.         0.         0.         0.         0.\n",
      " 0.         0.         0.         0.         0.         0.\n",
      " 0.         0.         0.         0.         0.         0.\n",
      " 0.         0.         0.         0.         0.         0.\n",
      " 0.         0.         0.         0.         0.         0.\n",
      " 0.         0.         0.         0.         0.         0.\n",
      " 0.         0.         0.         0.         0.         0.\n",
      " 0.         0.         0.         0.         0.         0.\n",
      " 0.00616698 0.01755218 0.11148008 0.13870968 0.54981025 0.00626186\n",
      " 0.00493359 0.0914611  0.05218216 0.24753321 0.19525617 0.00929791\n",
      " 0.01698292 0.021537   0.03776091 0.006926  ]\n"
     ]
    }
   ],
   "source": [
    "print(data_train[100])"
   ]
  },
  {
   "cell_type": "markdown",
   "metadata": {},
   "source": [
    "# Neural Network"
   ]
  },
  {
   "cell_type": "code",
   "execution_count": 77,
   "metadata": {},
   "outputs": [
    {
     "name": "stdout",
     "output_type": "stream",
     "text": [
      "Train on 10240 samples, validate on 1284 samples\n",
      "Epoch 1/10\n",
      "10240/10240 [==============================] - 35s 3ms/step - loss: 1.7614 - acc: 0.2007 - val_loss: 1.7619 - val_acc: 0.2087\n",
      "\n",
      "Epoch 00001: val_acc improved from -inf to 0.20872, saving model to weights-improvement-01-0.21.hdf5\n",
      "Epoch 2/10\n",
      "10240/10240 [==============================] - 31s 3ms/step - loss: 1.7570 - acc: 0.2104 - val_loss: 1.7597 - val_acc: 0.2196\n",
      "\n",
      "Epoch 00002: val_acc improved from 0.20872 to 0.21963, saving model to weights-improvement-02-0.22.hdf5\n",
      "Epoch 3/10\n",
      "10240/10240 [==============================] - 31s 3ms/step - loss: 1.7559 - acc: 0.2136 - val_loss: 1.7627 - val_acc: 0.2227\n",
      "\n",
      "Epoch 00003: val_acc improved from 0.21963 to 0.22274, saving model to weights-improvement-03-0.22.hdf5\n",
      "Epoch 4/10\n",
      "10240/10240 [==============================] - 31s 3ms/step - loss: 1.7557 - acc: 0.2213 - val_loss: 1.7575 - val_acc: 0.2227\n",
      "\n",
      "Epoch 00004: val_acc did not improve from 0.22274\n",
      "Epoch 5/10\n",
      "10240/10240 [==============================] - 31s 3ms/step - loss: 1.7545 - acc: 0.2200 - val_loss: 1.7625 - val_acc: 0.2157\n",
      "\n",
      "Epoch 00005: val_acc did not improve from 0.22274\n",
      "Epoch 6/10\n",
      "10240/10240 [==============================] - 31s 3ms/step - loss: 1.7557 - acc: 0.2222 - val_loss: 1.7582 - val_acc: 0.2266\n",
      "\n",
      "Epoch 00006: val_acc improved from 0.22274 to 0.22664, saving model to weights-improvement-06-0.23.hdf5\n",
      "Epoch 7/10\n",
      "10240/10240 [==============================] - 30s 3ms/step - loss: 1.7542 - acc: 0.2191 - val_loss: 1.7579 - val_acc: 0.2274\n",
      "\n",
      "Epoch 00007: val_acc improved from 0.22664 to 0.22741, saving model to weights-improvement-07-0.23.hdf5\n",
      "Epoch 8/10\n",
      "10240/10240 [==============================] - 31s 3ms/step - loss: 1.7547 - acc: 0.2223 - val_loss: 1.7566 - val_acc: 0.2173\n",
      "\n",
      "Epoch 00008: val_acc did not improve from 0.22741\n",
      "Epoch 9/10\n",
      "10240/10240 [==============================] - 31s 3ms/step - loss: 1.7540 - acc: 0.2234 - val_loss: 1.7539 - val_acc: 0.2274\n",
      "\n",
      "Epoch 00009: val_acc did not improve from 0.22741\n",
      "Epoch 10/10\n",
      "10240/10240 [==============================] - 31s 3ms/step - loss: 1.7541 - acc: 0.2222 - val_loss: 1.7564 - val_acc: 0.2313\n",
      "\n",
      "Epoch 00010: val_acc improved from 0.22741 to 0.23131, saving model to weights-improvement-10-0.23.hdf5\n"
     ]
    }
   ],
   "source": [
    "model = Sequential()\n",
    "model.add(Embedding(vocab_size, 100,input_length=maxlen,mask_zero=True))\n",
    "model.add(Bidirectional(LSTM(32,dropout=0.3)))\n",
    "model.add(Dense(6, activation='softmax'))\n",
    "model.compile(optimizer='adam', loss='categorical_crossentropy', metrics=['acc'])\n",
    "filepath=\"weights-improvement-{epoch:02d}-{val_acc:.2f}.hdf5\"\n",
    "checkpoint = ModelCheckpoint(filepath, monitor='val_acc', verbose=1, save_best_only=True, mode='max')\n",
    "callbacks_list = [checkpoint]\n",
    "history_ltsm = model.fit(data_train, y_train, epochs=10, batch_size=128, validation_data=(data_val,y_val), callbacks=callbacks_list)"
   ]
  },
  {
   "cell_type": "code",
   "execution_count": 78,
   "metadata": {},
   "outputs": [],
   "source": [
    "model.save('model6class.h5')\n",
    "y_pred=model.predict(data_test)"
   ]
  },
  {
   "cell_type": "code",
   "execution_count": 79,
   "metadata": {},
   "outputs": [],
   "source": [
    "y_pred=[np.argmax(i) for i in y_pred]"
   ]
  },
  {
   "cell_type": "code",
   "execution_count": 80,
   "metadata": {},
   "outputs": [
    {
     "name": "stdout",
     "output_type": "stream",
     "text": [
      "accuracy:   0.230\n",
      "Confusion matrix, without normalization\n"
     ]
    },
    {
     "data": {
      "image/png": "[encoded data removed]",
      "text/plain": [
       "<Figure size 432x288 with 2 Axes>"
      ]
     },
     "metadata": {
      "needs_background": "light"
     },
     "output_type": "display_data"
    }
   ],
   "source": [
    "score = metrics.accuracy_score(testy, y_pred)\n",
    "print(\"accuracy:   %0.3f\" % score)\n",
    "cm = metrics.confusion_matrix(testy, y_pred, labels=[0, 1,2,3,4,5])\n",
    "plot_confusion_matrix(cm, classes=[0, 1,2,3,4,5])"
   ]
  },
  {
   "cell_type": "code",
   "execution_count": 81,
   "metadata": {},
   "outputs": [
    {
     "data": {
      "image/png": "[encoded data removed]",
      "text/plain": [
       "<Figure size 432x288 with 1 Axes>"
      ]
     },
     "metadata": {
      "needs_background": "light"
     },
     "output_type": "display_data"
    }
   ],
   "source": [
    "plt.plot(history_ltsm.history['acc'])\n",
    "plt.plot(history_ltsm.history['val_acc'])\n",
    "plt.title('model accuracy')\n",
    "plt.ylabel('accuracy')\n",
    "plt.xlabel('epoch')\n",
    "plt.legend(['train', 'test'], loc='upper left')\n",
    "plt.show()"
   ]
  },
  {
   "cell_type": "code",
   "execution_count": null,
   "metadata": {},
   "outputs": [],
   "source": []
  }
 ],
 "metadata": {
  "kernelspec": {
   "display_name": "Python 3",
   "language": "python",
   "name": "python3"
  },
  "language_info": {
   "codemirror_mode": {
    "name": "ipython",
    "version": 3
   },
   "file_extension": ".py",
   "mimetype": "text/x-python",
   "name": "python",
   "nbconvert_exporter": "python",
   "pygments_lexer": "ipython3",
   "version": "3.5.6"
  }
 },
 "nbformat": 4,
 "nbformat_minor": 2
}
